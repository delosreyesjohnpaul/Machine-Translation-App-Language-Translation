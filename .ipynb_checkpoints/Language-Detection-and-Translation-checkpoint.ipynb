{
 "cells": [
  {
   "cell_type": "code",
   "execution_count": 4,
   "id": "5aa81139-0282-4436-9bb4-b26d2abc2de0",
   "metadata": {},
   "outputs": [
    {
     "name": "stdout",
     "output_type": "stream",
     "text": [
      "Detect Language : ur\n",
      "Probability  [ur:0.999999246445326]\n"
     ]
    }
   ],
   "source": [
    "from langdetect import detect,detect_langs,DetectorFactory\n",
    "DetectorFactory.seed = 0\n",
    "\n",
    "\n",
    "sentence = \"آج کا دن بہت خوبصورت ہے\"\n",
    "\n",
    "print(\"Detect Language :\", detect(sentence))\n",
    "print(\"Probability \",detect_langs(sentence))"
   ]
  },
  {
   "cell_type": "code",
   "execution_count": 6,
   "id": "be08e3d8-8f6b-4e9e-ae21-193989810b13",
   "metadata": {},
   "outputs": [
    {
     "name": "stdout",
     "output_type": "stream",
     "text": [
      "Detect Language: hi\n",
      "Probability: [hi:0.9999977479090416]\n"
     ]
    }
   ],
   "source": [
    "sentence = \"आज का दिन बहुत खूबसूरत है\"\n",
    "\n",
    "print(\"Detect Language:\", detect(sentence))\n",
    "print(\"Probability:\", detect_langs(sentence))"
   ]
  },
  {
   "cell_type": "code",
   "execution_count": 8,
   "id": "406ffabf-c764-4723-9e55-0aeb11f79b92",
   "metadata": {},
   "outputs": [
    {
     "name": "stdout",
     "output_type": "stream",
     "text": [
      "Detect Language: en\n",
      "Probability: [en:0.9999970122854227]\n"
     ]
    }
   ],
   "source": [
    "sentence = \"it is very pleasant today\"\n",
    "\n",
    "print(\"Detect Language:\", detect(sentence))\n",
    "print(\"Probability:\", detect_langs(sentence))"
   ]
  },
  {
   "cell_type": "code",
   "execution_count": 10,
   "id": "7c4e4f11-93c5-4559-a132-987353cb732b",
   "metadata": {},
   "outputs": [
    {
     "name": "stdout",
     "output_type": "stream",
     "text": [
      "Detect Language: tl\n",
      "Probability: [tl:0.9999976332758785]\n"
     ]
    }
   ],
   "source": [
    "sentence = \"ako ay tumalon sa tulay at tumakbo ng mabilis\"\n",
    "\n",
    "print(\"Detect Language:\", detect(sentence))\n",
    "print(\"Probability:\", detect_langs(sentence))"
   ]
  },
  {
   "cell_type": "code",
   "execution_count": 16,
   "id": "cf052d62-2cb2-43ee-ac01-89bf15c5a985",
   "metadata": {},
   "outputs": [
    {
     "name": "stdout",
     "output_type": "stream",
     "text": [
      "Translated Text: I jumped on the bridge and ran fast\n"
     ]
    }
   ],
   "source": [
    "from googletrans import Translator\n",
    "\n",
    "translator = Translator()\n",
    "\n",
    "sentence = \"ako ay tumalon sa tulay at tumakbo ng mabilis\"\n",
    "translate_text = translator.translate(sentence, src='tl', dest='en')\n",
    "\n",
    "print(\"Translated Text:\", translate_text.text)\n"
   ]
  },
  {
   "cell_type": "code",
   "execution_count": 18,
   "id": "1f601f89-c63d-4054-984c-c0abc3543f05",
   "metadata": {},
   "outputs": [],
   "source": [
    "from langdetect import detect\n",
    "from googletrans import Translator\n",
    "\n",
    "def detect_and_translate(text, target_lang):\n",
    "    # Detect language\n",
    "    result_lang = detect(text)\n",
    "    \n",
    "    # Translate language\n",
    "    translator = Translator()\n",
    "    translate_text = translator.translate(text, dest=target_lang).text\n",
    "\n",
    "    return result_lang, translate_text "
   ]
  },
  {
   "cell_type": "code",
   "execution_count": 20,
   "id": "2b362d5f-b22b-4b3a-ad1c-dfc6358e4ce2",
   "metadata": {},
   "outputs": [
    {
     "name": "stdout",
     "output_type": "stream",
     "text": [
      "Language: hi\n",
      "Translation: Today is very beautiful\n"
     ]
    }
   ],
   "source": [
    "# example 1\n",
    "# Sample sentence in Hindi\n",
    "sentence = \"आज का दिन बहुत खूबसूरत है\"\n",
    "\n",
    "# Detect and translate\n",
    "result_lang, translate_text = detect_and_translate(sentence, target_lang='en')\n",
    "\n",
    "print(\"Language:\", result_lang)\n",
    "print(\"Translation:\", translate_text)"
   ]
  },
  {
   "cell_type": "code",
   "execution_count": 22,
   "id": "447811ab-2223-46a9-b5dc-7ca46beb432b",
   "metadata": {},
   "outputs": [
    {
     "name": "stdout",
     "output_type": "stream",
     "text": [
      "Language: en\n",
      "Translation: ہم ٹکنالوجی کے دور میں رہ رہے ہیں۔\n"
     ]
    }
   ],
   "source": [
    "# example 1\n",
    "# Sample sentence in \n",
    "sentence = \"We are living in the era of technology.\"\n",
    "# Detect and translate\n",
    "result_lang, translate_text = detect_and_translate(sentence, target_lang='ur')\n",
    "\n",
    "print(\"Language:\", result_lang)\n",
    "print(\"Translation:\", translate_text)"
   ]
  },
  {
   "cell_type": "code",
   "execution_count": null,
   "id": "140cfb43-36f0-45f5-b184-2d061e70b16b",
   "metadata": {},
   "outputs": [],
   "source": []
  }
 ],
 "metadata": {
  "kernelspec": {
   "display_name": "Python 3 (ipykernel)",
   "language": "python",
   "name": "python3"
  },
  "language_info": {
   "codemirror_mode": {
    "name": "ipython",
    "version": 3
   },
   "file_extension": ".py",
   "mimetype": "text/x-python",
   "name": "python",
   "nbconvert_exporter": "python",
   "pygments_lexer": "ipython3",
   "version": "3.12.4"
  }
 },
 "nbformat": 4,
 "nbformat_minor": 5
}
